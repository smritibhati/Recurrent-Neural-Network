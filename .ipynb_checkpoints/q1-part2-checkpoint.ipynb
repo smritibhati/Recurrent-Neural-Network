{
 "cells": [
  {
   "cell_type": "code",
   "execution_count": 39,
   "metadata": {},
   "outputs": [],
   "source": [
    "import pandas as pd\n",
    "import numpy as np\n",
    "import matplotlib.pyplot as plt\n",
    "from hmmlearn.hmm import GaussianHMM\n",
    "from tqdm import tqdm\n",
    "import itertools\n",
    "import numpy as np\n",
    "import pandas as pd\n",
    "import tensorflow as tf\n",
    "from sklearn.preprocessing import MinMaxScaler\n",
    "from keras.models import Sequential\n",
    "from keras.layers import LSTM\n",
    "from keras.layers import Dense\n",
    "from keras.layers import Dropout\n",
    "from numpy import concatenate\n",
    "import matplotlib.pyplot as plt"
   ]
  },
  {
   "cell_type": "code",
   "execution_count": 40,
   "metadata": {},
   "outputs": [
    {
     "name": "stderr",
     "output_type": "stream",
     "text": [
      "/Library/Frameworks/Python.framework/Versions/3.7/lib/python3.7/site-packages/ipykernel_launcher.py:3: FutureWarning: convert_objects is deprecated.  To re-infer data dtypes for object columns, use DataFrame.infer_objects()\n",
      "For all other conversions use the data-type specific converters pd.to_datetime, pd.to_timedelta and pd.to_numeric.\n",
      "  This is separate from the ipykernel package so we can avoid doing imports until\n"
     ]
    }
   ],
   "source": [
    "df = pd.read_csv('GoogleStocks.csv')\n",
    "df = df.iloc[1:]\n",
    "df = df.convert_objects(convert_numeric=True)\n",
    "df['date'] = pd.to_datetime(df['date'])"
   ]
  },
  {
   "cell_type": "code",
   "execution_count": 41,
   "metadata": {},
   "outputs": [],
   "source": [
    "data,testdata=np.split(df,[int(.8*len(df))])"
   ]
  },
  {
   "cell_type": "code",
   "execution_count": 42,
   "metadata": {},
   "outputs": [],
   "source": [
    "def _extract_features(data):\n",
    "    open_price = np.array(data['open'])\n",
    "    close_price = np.array(data['close'])\n",
    "    high_price = np.array(data['volume'])\n",
    "    low_price = np.array(data['low'])+np.array(data['high'])/2\n",
    "\n",
    "    # Compute the fraction change in close, high and low prices\n",
    "    # which would be used a feature\n",
    "    frac_change = (open_price - close_price) / close_price\n",
    "    frac_high = (high_price - close_price) / close_price\n",
    "    frac_low = (close_price - low_price) / close_price\n",
    "    \n",
    "    return np.column_stack((frac_change, frac_high, frac_low))"
   ]
  },
  {
   "cell_type": "markdown",
   "metadata": {},
   "source": [
    "opencol = np.array(data['open'])\n",
    "closecol = np.array(data['close'])\n",
    "highcol = np.array(data['high'])\n",
    "lowcol = np.array(data['low'])\n",
    "\n",
    "#Compute the fraction change in close, high and low prices\n",
    "#which would be used a feature\n",
    "changefeature = (closecol - opencol)/opencol\n",
    "highfeature = (highcol - opencol)/opencol\n",
    "lowfeature = (opencol - lowcol)/opencol"
   ]
  },
  {
   "cell_type": "code",
   "execution_count": 52,
   "metadata": {},
   "outputs": [],
   "source": [
    "trainx = _extract_features(data)"
   ]
  },
  {
   "cell_type": "code",
   "execution_count": 53,
   "metadata": {},
   "outputs": [
    {
     "data": {
      "text/plain": [
       "(604, 3)"
      ]
     },
     "execution_count": 53,
     "metadata": {},
     "output_type": "execute_result"
    }
   ],
   "source": [
    "trainx.shape"
   ]
  },
  {
   "cell_type": "code",
   "execution_count": 54,
   "metadata": {},
   "outputs": [],
   "source": [
    "model = GaussianHMM(n_components=4)"
   ]
  },
  {
   "cell_type": "code",
   "execution_count": 55,
   "metadata": {},
   "outputs": [
    {
     "data": {
      "text/plain": [
       "GaussianHMM(algorithm='viterbi', covariance_type='diag', covars_prior=0.01,\n",
       "      covars_weight=1, init_params='stmc', means_prior=0, means_weight=0,\n",
       "      min_covar=0.001, n_components=4, n_iter=10, params='stmc',\n",
       "      random_state=None, startprob_prior=1.0, tol=0.01, transmat_prior=1.0,\n",
       "      verbose=False)"
      ]
     },
     "execution_count": 55,
     "metadata": {},
     "output_type": "execute_result"
    }
   ],
   "source": [
    "model.fit(trainx)"
   ]
  },
  {
   "cell_type": "code",
   "execution_count": 47,
   "metadata": {},
   "outputs": [],
   "source": [
    "def compute_all_possible_outcomes(n_steps_frac_change,n_steps_frac_high, n_steps_frac_low):\n",
    "    frac_change_range = np.linspace(-0.1, 0.1, 50)\n",
    "    frac_high_range = np.linspace(0, 0.1, 10)\n",
    "    frac_low_range = np.linspace(0, 0.1, 10)\n",
    "\n",
    "    possible_outcomes = np.array(list(itertools.product(\n",
    "        frac_change_range, frac_high_range, frac_low_range)))\n",
    "    return possible_outcomes"
   ]
  },
  {
   "cell_type": "code",
   "execution_count": 48,
   "metadata": {},
   "outputs": [],
   "source": [
    "def get_most_probable_outcome(day_index):\n",
    "    previous_data_start_index = max(0, day_index - n_latency_days)\n",
    "    previous_data_end_index = max(0, day_index - 1)\n",
    "    previous_data = testdata.iloc[previous_data_end_index: previous_data_start_index]\n",
    "    previous_data_features = _extract_features(\n",
    "        previous_data)\n",
    "\n",
    "    outcome_score = []\n",
    "    possible_outcomes =  compute_all_possible_outcomes(50,10,10)\n",
    "    for possible_outcome in possible_outcomes:\n",
    "        total_data = np.row_stack(\n",
    "            (previous_data_features, possible_outcome))\n",
    "        outcome_score.append(model.score(total_data))\n",
    "    most_probable_outcome = possible_outcomes[np.argmax(outcome_score)]\n",
    "\n",
    "    return most_probable_outcome"
   ]
  },
  {
   "cell_type": "code",
   "execution_count": 49,
   "metadata": {},
   "outputs": [],
   "source": [
    "def predict_close_price(day_index):\n",
    "    open_price = testdata.iloc[day_index]['close']\n",
    "    predicted_frac_change, _, _ = get_most_probable_outcome(day_index)\n",
    "    return open_price * (1 + predicted_frac_change)"
   ]
  },
  {
   "cell_type": "code",
   "execution_count": 50,
   "metadata": {},
   "outputs": [],
   "source": [
    "def predict_close_prices_for_days(days, with_plot=False):\n",
    "    predicted_close_prices = []\n",
    "    \n",
    "    for day_index in tqdm(range(days)):\n",
    "        predicted_close_prices.append(predict_close_price(day_index))\n",
    "\n",
    "    if with_plot:\n",
    "        test_data = testdata[0: days]\n",
    "        days = np.array(test_data['date'], dtype=\"datetime64[ms]\")\n",
    "        actual_close_prices = test_data['open']\n",
    "\n",
    "        fig = plt.figure()\n",
    "\n",
    "        axes = fig.add_subplot(111)\n",
    "        axes.plot(days, actual_close_prices, 'bo-', label=\"actual\")\n",
    "        axes.plot(days, predicted_close_prices, 'r+-', label=\"predicted\")\n",
    "\n",
    "        fig.autofmt_xdate()\n",
    "\n",
    "        plt.legend()\n",
    "        plt.show()\n",
    "\n",
    "    return predicted_close_prices"
   ]
  },
  {
   "cell_type": "code",
   "execution_count": 56,
   "metadata": {},
   "outputs": [
    {
     "name": "stderr",
     "output_type": "stream",
     "text": [
      "100%|██████████| 50/50 [01:54<00:00,  2.16s/it]\n"
     ]
    },
    {
     "data": {
      "image/png": "[encoded data removed]",
      "text/plain": [
       "<Figure size 432x288 with 1 Axes>"
      ]
     },
     "metadata": {
      "needs_background": "light"
     },
     "output_type": "display_data"
    },
    {
     "data": {
      "text/plain": [
       "[809.9584693877551,\n",
       " 813.7467959183674,\n",
       " 822.5047551020408,\n",
       " 828.0446734693878,\n",
       " 814.052306122449,\n",
       " 811.6082244897959,\n",
       " 816.2825306122448,\n",
       " 809.8668163265306,\n",
       " 794.2857959183674,\n",
       " 792.8295306122449,\n",
       " 792.4832857142858,\n",
       " 800.579306122449,\n",
       " 797.452918367347,\n",
       " 800.3756326530613,\n",
       " 789.3161632653062,\n",
       " 791.1288571428571,\n",
       " 790.731693877551,\n",
       " 790.6909591836734,\n",
       " 786.7498775510204,\n",
       " 791.5667551020408,\n",
       " 789.2448775510204,\n",
       " 795.9151836734693,\n",
       " 797.3918163265306,\n",
       " 788.4301836734694,\n",
       " 801.3532653061225,\n",
       " 801.6689591836735,\n",
       " 790.4771020408164,\n",
       " 785.5787551020408,\n",
       " 779.7638775510204,\n",
       " 783.0022857142857,\n",
       " 785.9351836734694,\n",
       " 776.4949183673469,\n",
       " 773.6434897959184,\n",
       " 783.1448571428572,\n",
       " 773.6129387755102,\n",
       " 789.5605714285715,\n",
       " 794.6829591836735,\n",
       " 794.408,\n",
       " 785.6296734693877,\n",
       " 782.9004489795918,\n",
       " 781.1386734693878,\n",
       " 783.2161428571429,\n",
       " 786.3323469387755,\n",
       " 783.6744081632653,\n",
       " 783.5420204081632,\n",
       " 783.7762448979591,\n",
       " 786.2610612244898,\n",
       " 786.3323469387755,\n",
       " 789.6624081632652,\n",
       " 791.780612244898]"
      ]
     },
     "execution_count": 56,
     "metadata": {},
     "output_type": "execute_result"
    }
   ],
   "source": [
    "n_latency_days=20\n",
    "predict_close_prices_for_days(50, with_plot=True)"
   ]
  },
  {
   "cell_type": "code",
   "execution_count": null,
   "metadata": {},
   "outputs": [],
   "source": []
  }
 ],
 "metadata": {
  "kernelspec": {
   "display_name": "Python 3",
   "language": "python",
   "name": "python3"
  },
  "language_info": {
   "codemirror_mode": {
    "name": "ipython",
    "version": 3
   },
   "file_extension": ".py",
   "mimetype": "text/x-python",
   "name": "python",
   "nbconvert_exporter": "python",
   "pygments_lexer": "ipython3",
   "version": "3.7.1"
  }
 },
 "nbformat": 4,
 "nbformat_minor": 2
}
