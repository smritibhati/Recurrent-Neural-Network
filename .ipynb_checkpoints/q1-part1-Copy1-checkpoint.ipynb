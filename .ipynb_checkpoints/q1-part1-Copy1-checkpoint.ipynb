{
 "cells": [
  {
   "cell_type": "code",
   "execution_count": 189,
   "metadata": {},
   "outputs": [],
   "source": [
    "import numpy as np\n",
    "import pandas as pd\n",
    "import tensorflow as tf\n",
    "from sklearn.preprocessing import MinMaxScaler\n",
    "from keras.models import Sequential\n",
    "from keras.layers import LSTM\n",
    "from keras.layers import Dense\n",
    "from keras.layers import Dropout\n",
    "from numpy import concatenate\n",
    "import matplotlib.pyplot as plt"
   ]
  },
  {
   "cell_type": "code",
   "execution_count": 190,
   "metadata": {},
   "outputs": [
    {
     "name": "stderr",
     "output_type": "stream",
     "text": [
      "/Library/Frameworks/Python.framework/Versions/3.7/lib/python3.7/site-packages/ipykernel_launcher.py:3: FutureWarning: convert_objects is deprecated.  To re-infer data dtypes for object columns, use DataFrame.infer_objects()\n",
      "For all other conversions use the data-type specific converters pd.to_datetime, pd.to_timedelta and pd.to_numeric.\n",
      "  This is separate from the ipykernel package so we can avoid doing imports until\n"
     ]
    }
   ],
   "source": [
    "df = pd.read_csv('GoogleStocks.csv',index_col=\"date\",parse_dates=True)\n",
    "df = df.iloc[1:]\n",
    "df = df.convert_objects(convert_numeric=True)\n",
    "col = df.loc[: , \"high\":\"low\"]\n",
    "\n",
    "df=df.drop(columns=['high','low','close'])\n",
    "df['average'] = col.mean(axis=1)"
   ]
  },
  {
   "cell_type": "markdown",
   "metadata": {},
   "source": [
    "# Part 1"
   ]
  },
  {
   "cell_type": "code",
   "execution_count": 191,
   "metadata": {},
   "outputs": [],
   "source": [
    "data,testdata=np.split(df,[int(.8*len(df))])"
   ]
  },
  {
   "cell_type": "code",
   "execution_count": 192,
   "metadata": {},
   "outputs": [],
   "source": [
    "featurescaler = MinMaxScaler(feature_range = (0,1))\n",
    "data = featurescaler.fit_transform(data)"
   ]
  },
  {
   "cell_type": "code",
   "execution_count": 193,
   "metadata": {},
   "outputs": [],
   "source": [
    "data = np.array(data)\n",
    "testdata = np.array(data)"
   ]
  },
  {
   "cell_type": "code",
   "execution_count": 194,
   "metadata": {},
   "outputs": [],
   "source": [
    "timesteps = [20,50,75]\n",
    "hiddenlayercells = [30,50,80]"
   ]
  },
  {
   "cell_type": "markdown",
   "metadata": {},
   "source": [
    "# 2 Hidden Layers"
   ]
  },
  {
   "cell_type": "code",
   "execution_count": 207,
   "metadata": {},
   "outputs": [
    {
     "name": "stdout",
     "output_type": "stream",
     "text": [
      "Stock Price Prediction for: (2, 30, 20)\n",
      "Stock Price Prediction for: (2, 50, 20)\n"
     ]
    },
    {
     "ename": "KeyboardInterrupt",
     "evalue": "",
     "output_type": "error",
     "traceback": [
      "\u001b[0;31m---------------------------------------------------------------------------\u001b[0m",
      "\u001b[0;31mKeyboardInterrupt\u001b[0m                         Traceback (most recent call last)",
      "\u001b[0;32m<ipython-input-207-db1582655a7b>\u001b[0m in \u001b[0;36m<module>\u001b[0;34m\u001b[0m\n\u001b[1;32m     24\u001b[0m         \u001b[0mmodel\u001b[0m\u001b[0;34m.\u001b[0m\u001b[0madd\u001b[0m\u001b[0;34m(\u001b[0m\u001b[0mDense\u001b[0m\u001b[0;34m(\u001b[0m\u001b[0;36m1\u001b[0m\u001b[0;34m)\u001b[0m\u001b[0;34m)\u001b[0m\u001b[0;34m\u001b[0m\u001b[0;34m\u001b[0m\u001b[0m\n\u001b[1;32m     25\u001b[0m         \u001b[0mmodel\u001b[0m\u001b[0;34m.\u001b[0m\u001b[0mcompile\u001b[0m\u001b[0;34m(\u001b[0m\u001b[0mloss\u001b[0m\u001b[0;34m=\u001b[0m\u001b[0;34m'mean_squared_error'\u001b[0m\u001b[0;34m,\u001b[0m \u001b[0moptimizer\u001b[0m\u001b[0;34m=\u001b[0m\u001b[0;34m'adam'\u001b[0m\u001b[0;34m)\u001b[0m\u001b[0;34m\u001b[0m\u001b[0;34m\u001b[0m\u001b[0m\n\u001b[0;32m---> 26\u001b[0;31m         \u001b[0mfitmodel\u001b[0m \u001b[0;34m=\u001b[0m \u001b[0mmodel\u001b[0m\u001b[0;34m.\u001b[0m\u001b[0mfit\u001b[0m\u001b[0;34m(\u001b[0m\u001b[0mX\u001b[0m\u001b[0;34m,\u001b[0m \u001b[0mY\u001b[0m\u001b[0;34m,\u001b[0m \u001b[0mepochs\u001b[0m\u001b[0;34m=\u001b[0m\u001b[0;36m50\u001b[0m\u001b[0;34m,\u001b[0m \u001b[0mbatch_size\u001b[0m\u001b[0;34m=\u001b[0m\u001b[0;36m20\u001b[0m\u001b[0;34m,\u001b[0m \u001b[0mvalidation_data\u001b[0m\u001b[0;34m=\u001b[0m\u001b[0;34m(\u001b[0m\u001b[0mXtest\u001b[0m\u001b[0;34m,\u001b[0m \u001b[0mYtest\u001b[0m\u001b[0;34m)\u001b[0m\u001b[0;34m,\u001b[0m\u001b[0mverbose\u001b[0m\u001b[0;34m=\u001b[0m\u001b[0;36m0\u001b[0m\u001b[0;34m,\u001b[0m\u001b[0mshuffle\u001b[0m\u001b[0;34m=\u001b[0m\u001b[0;32mFalse\u001b[0m\u001b[0;34m)\u001b[0m\u001b[0;34m\u001b[0m\u001b[0;34m\u001b[0m\u001b[0m\n\u001b[0m\u001b[1;32m     27\u001b[0m         \u001b[0mtitle\u001b[0m \u001b[0;34m=\u001b[0m \u001b[0;34m\"Stock Price Prediction for: (\"\u001b[0m \u001b[0;34m+\u001b[0m \u001b[0mstr\u001b[0m\u001b[0;34m(\u001b[0m\u001b[0;36m2\u001b[0m\u001b[0;34m)\u001b[0m \u001b[0;34m+\u001b[0m\u001b[0;34m\", \"\u001b[0m\u001b[0;34m+\u001b[0m \u001b[0mstr\u001b[0m\u001b[0;34m(\u001b[0m\u001b[0mhlc\u001b[0m\u001b[0;34m)\u001b[0m\u001b[0;34m+\u001b[0m \u001b[0;34m\", \"\u001b[0m \u001b[0;34m+\u001b[0m \u001b[0mstr\u001b[0m\u001b[0;34m(\u001b[0m\u001b[0mts\u001b[0m\u001b[0;34m)\u001b[0m\u001b[0;34m+\u001b[0m \u001b[0;34m\")\"\u001b[0m\u001b[0;34m\u001b[0m\u001b[0;34m\u001b[0m\u001b[0m\n\u001b[1;32m     28\u001b[0m         \u001b[0mprint\u001b[0m\u001b[0;34m(\u001b[0m\u001b[0mtitle\u001b[0m\u001b[0;34m)\u001b[0m\u001b[0;34m\u001b[0m\u001b[0;34m\u001b[0m\u001b[0m\n",
      "\u001b[0;32m/Library/Frameworks/Python.framework/Versions/3.7/lib/python3.7/site-packages/keras/engine/training.py\u001b[0m in \u001b[0;36mfit\u001b[0;34m(self, x, y, batch_size, epochs, verbose, callbacks, validation_split, validation_data, shuffle, class_weight, sample_weight, initial_epoch, steps_per_epoch, validation_steps, **kwargs)\u001b[0m\n\u001b[1;32m   1037\u001b[0m                                         \u001b[0minitial_epoch\u001b[0m\u001b[0;34m=\u001b[0m\u001b[0minitial_epoch\u001b[0m\u001b[0;34m,\u001b[0m\u001b[0;34m\u001b[0m\u001b[0;34m\u001b[0m\u001b[0m\n\u001b[1;32m   1038\u001b[0m                                         \u001b[0msteps_per_epoch\u001b[0m\u001b[0;34m=\u001b[0m\u001b[0msteps_per_epoch\u001b[0m\u001b[0;34m,\u001b[0m\u001b[0;34m\u001b[0m\u001b[0;34m\u001b[0m\u001b[0m\n\u001b[0;32m-> 1039\u001b[0;31m                                         validation_steps=validation_steps)\n\u001b[0m\u001b[1;32m   1040\u001b[0m \u001b[0;34m\u001b[0m\u001b[0m\n\u001b[1;32m   1041\u001b[0m     def evaluate(self, x=None, y=None,\n",
      "\u001b[0;32m/Library/Frameworks/Python.framework/Versions/3.7/lib/python3.7/site-packages/keras/engine/training_arrays.py\u001b[0m in \u001b[0;36mfit_loop\u001b[0;34m(model, f, ins, out_labels, batch_size, epochs, verbose, callbacks, val_f, val_ins, shuffle, callback_metrics, initial_epoch, steps_per_epoch, validation_steps)\u001b[0m\n\u001b[1;32m    210\u001b[0m                         val_outs = test_loop(model, val_f, val_ins,\n\u001b[1;32m    211\u001b[0m                                              \u001b[0mbatch_size\u001b[0m\u001b[0;34m=\u001b[0m\u001b[0mbatch_size\u001b[0m\u001b[0;34m,\u001b[0m\u001b[0;34m\u001b[0m\u001b[0;34m\u001b[0m\u001b[0m\n\u001b[0;32m--> 212\u001b[0;31m                                              verbose=0)\n\u001b[0m\u001b[1;32m    213\u001b[0m                         \u001b[0mval_outs\u001b[0m \u001b[0;34m=\u001b[0m \u001b[0mto_list\u001b[0m\u001b[0;34m(\u001b[0m\u001b[0mval_outs\u001b[0m\u001b[0;34m)\u001b[0m\u001b[0;34m\u001b[0m\u001b[0;34m\u001b[0m\u001b[0m\n\u001b[1;32m    214\u001b[0m                         \u001b[0;31m# Same labels assumed.\u001b[0m\u001b[0;34m\u001b[0m\u001b[0;34m\u001b[0m\u001b[0;34m\u001b[0m\u001b[0m\n",
      "\u001b[0;32m/Library/Frameworks/Python.framework/Versions/3.7/lib/python3.7/site-packages/keras/engine/training_arrays.py\u001b[0m in \u001b[0;36mtest_loop\u001b[0;34m(model, f, ins, batch_size, verbose, steps)\u001b[0m\n\u001b[1;32m    390\u001b[0m                 \u001b[0mins_batch\u001b[0m\u001b[0;34m[\u001b[0m\u001b[0mi\u001b[0m\u001b[0;34m]\u001b[0m \u001b[0;34m=\u001b[0m \u001b[0mins_batch\u001b[0m\u001b[0;34m[\u001b[0m\u001b[0mi\u001b[0m\u001b[0;34m]\u001b[0m\u001b[0;34m.\u001b[0m\u001b[0mtoarray\u001b[0m\u001b[0;34m(\u001b[0m\u001b[0;34m)\u001b[0m\u001b[0;34m\u001b[0m\u001b[0;34m\u001b[0m\u001b[0m\n\u001b[1;32m    391\u001b[0m \u001b[0;34m\u001b[0m\u001b[0m\n\u001b[0;32m--> 392\u001b[0;31m             \u001b[0mbatch_outs\u001b[0m \u001b[0;34m=\u001b[0m \u001b[0mf\u001b[0m\u001b[0;34m(\u001b[0m\u001b[0mins_batch\u001b[0m\u001b[0;34m)\u001b[0m\u001b[0;34m\u001b[0m\u001b[0;34m\u001b[0m\u001b[0m\n\u001b[0m\u001b[1;32m    393\u001b[0m             \u001b[0;32mif\u001b[0m \u001b[0misinstance\u001b[0m\u001b[0;34m(\u001b[0m\u001b[0mbatch_outs\u001b[0m\u001b[0;34m,\u001b[0m \u001b[0mlist\u001b[0m\u001b[0;34m)\u001b[0m\u001b[0;34m:\u001b[0m\u001b[0;34m\u001b[0m\u001b[0;34m\u001b[0m\u001b[0m\n\u001b[1;32m    394\u001b[0m                 \u001b[0;32mif\u001b[0m \u001b[0mbatch_index\u001b[0m \u001b[0;34m==\u001b[0m \u001b[0;36m0\u001b[0m\u001b[0;34m:\u001b[0m\u001b[0;34m\u001b[0m\u001b[0;34m\u001b[0m\u001b[0m\n",
      "\u001b[0;32m/Library/Frameworks/Python.framework/Versions/3.7/lib/python3.7/site-packages/keras/backend/tensorflow_backend.py\u001b[0m in \u001b[0;36m__call__\u001b[0;34m(self, inputs)\u001b[0m\n\u001b[1;32m   2713\u001b[0m                 \u001b[0;32mreturn\u001b[0m \u001b[0mself\u001b[0m\u001b[0;34m.\u001b[0m\u001b[0m_legacy_call\u001b[0m\u001b[0;34m(\u001b[0m\u001b[0minputs\u001b[0m\u001b[0;34m)\u001b[0m\u001b[0;34m\u001b[0m\u001b[0;34m\u001b[0m\u001b[0m\n\u001b[1;32m   2714\u001b[0m \u001b[0;34m\u001b[0m\u001b[0m\n\u001b[0;32m-> 2715\u001b[0;31m             \u001b[0;32mreturn\u001b[0m \u001b[0mself\u001b[0m\u001b[0;34m.\u001b[0m\u001b[0m_call\u001b[0m\u001b[0;34m(\u001b[0m\u001b[0minputs\u001b[0m\u001b[0;34m)\u001b[0m\u001b[0;34m\u001b[0m\u001b[0;34m\u001b[0m\u001b[0m\n\u001b[0m\u001b[1;32m   2716\u001b[0m         \u001b[0;32melse\u001b[0m\u001b[0;34m:\u001b[0m\u001b[0;34m\u001b[0m\u001b[0;34m\u001b[0m\u001b[0m\n\u001b[1;32m   2717\u001b[0m             \u001b[0;32mif\u001b[0m \u001b[0mpy_any\u001b[0m\u001b[0;34m(\u001b[0m\u001b[0mis_tensor\u001b[0m\u001b[0;34m(\u001b[0m\u001b[0mx\u001b[0m\u001b[0;34m)\u001b[0m \u001b[0;32mfor\u001b[0m \u001b[0mx\u001b[0m \u001b[0;32min\u001b[0m \u001b[0minputs\u001b[0m\u001b[0;34m)\u001b[0m\u001b[0;34m:\u001b[0m\u001b[0;34m\u001b[0m\u001b[0;34m\u001b[0m\u001b[0m\n",
      "\u001b[0;32m/Library/Frameworks/Python.framework/Versions/3.7/lib/python3.7/site-packages/keras/backend/tensorflow_backend.py\u001b[0m in \u001b[0;36m_call\u001b[0;34m(self, inputs)\u001b[0m\n\u001b[1;32m   2673\u001b[0m             \u001b[0mfetched\u001b[0m \u001b[0;34m=\u001b[0m \u001b[0mself\u001b[0m\u001b[0;34m.\u001b[0m\u001b[0m_callable_fn\u001b[0m\u001b[0;34m(\u001b[0m\u001b[0;34m*\u001b[0m\u001b[0marray_vals\u001b[0m\u001b[0;34m,\u001b[0m \u001b[0mrun_metadata\u001b[0m\u001b[0;34m=\u001b[0m\u001b[0mself\u001b[0m\u001b[0;34m.\u001b[0m\u001b[0mrun_metadata\u001b[0m\u001b[0;34m)\u001b[0m\u001b[0;34m\u001b[0m\u001b[0;34m\u001b[0m\u001b[0m\n\u001b[1;32m   2674\u001b[0m         \u001b[0;32melse\u001b[0m\u001b[0;34m:\u001b[0m\u001b[0;34m\u001b[0m\u001b[0;34m\u001b[0m\u001b[0m\n\u001b[0;32m-> 2675\u001b[0;31m             \u001b[0mfetched\u001b[0m \u001b[0;34m=\u001b[0m \u001b[0mself\u001b[0m\u001b[0;34m.\u001b[0m\u001b[0m_callable_fn\u001b[0m\u001b[0;34m(\u001b[0m\u001b[0;34m*\u001b[0m\u001b[0marray_vals\u001b[0m\u001b[0;34m)\u001b[0m\u001b[0;34m\u001b[0m\u001b[0;34m\u001b[0m\u001b[0m\n\u001b[0m\u001b[1;32m   2676\u001b[0m         \u001b[0;32mreturn\u001b[0m \u001b[0mfetched\u001b[0m\u001b[0;34m[\u001b[0m\u001b[0;34m:\u001b[0m\u001b[0mlen\u001b[0m\u001b[0;34m(\u001b[0m\u001b[0mself\u001b[0m\u001b[0;34m.\u001b[0m\u001b[0moutputs\u001b[0m\u001b[0;34m)\u001b[0m\u001b[0;34m]\u001b[0m\u001b[0;34m\u001b[0m\u001b[0;34m\u001b[0m\u001b[0m\n\u001b[1;32m   2677\u001b[0m \u001b[0;34m\u001b[0m\u001b[0m\n",
      "\u001b[0;32m/Library/Frameworks/Python.framework/Versions/3.7/lib/python3.7/site-packages/tensorflow/python/client/session.py\u001b[0m in \u001b[0;36m__call__\u001b[0;34m(self, *args, **kwargs)\u001b[0m\n\u001b[1;32m   1437\u001b[0m           ret = tf_session.TF_SessionRunCallable(\n\u001b[1;32m   1438\u001b[0m               \u001b[0mself\u001b[0m\u001b[0;34m.\u001b[0m\u001b[0m_session\u001b[0m\u001b[0;34m.\u001b[0m\u001b[0m_session\u001b[0m\u001b[0;34m,\u001b[0m \u001b[0mself\u001b[0m\u001b[0;34m.\u001b[0m\u001b[0m_handle\u001b[0m\u001b[0;34m,\u001b[0m \u001b[0margs\u001b[0m\u001b[0;34m,\u001b[0m \u001b[0mstatus\u001b[0m\u001b[0;34m,\u001b[0m\u001b[0;34m\u001b[0m\u001b[0;34m\u001b[0m\u001b[0m\n\u001b[0;32m-> 1439\u001b[0;31m               run_metadata_ptr)\n\u001b[0m\u001b[1;32m   1440\u001b[0m         \u001b[0;32mif\u001b[0m \u001b[0mrun_metadata\u001b[0m\u001b[0;34m:\u001b[0m\u001b[0;34m\u001b[0m\u001b[0;34m\u001b[0m\u001b[0m\n\u001b[1;32m   1441\u001b[0m           \u001b[0mproto_data\u001b[0m \u001b[0;34m=\u001b[0m \u001b[0mtf_session\u001b[0m\u001b[0;34m.\u001b[0m\u001b[0mTF_GetBuffer\u001b[0m\u001b[0;34m(\u001b[0m\u001b[0mrun_metadata_ptr\u001b[0m\u001b[0;34m)\u001b[0m\u001b[0;34m\u001b[0m\u001b[0;34m\u001b[0m\u001b[0m\n",
      "\u001b[0;31mKeyboardInterrupt\u001b[0m: "
     ]
    }
   ],
   "source": [
    "models = []\n",
    "for ts in timesteps:\n",
    "    X = []\n",
    "    Y = []\n",
    "    Xtest=[]\n",
    "    Ytest=[]\n",
    "    for i in range(ts, 604):\n",
    "        X.append(data[i-20:i,[0,2]])\n",
    "        Y.append(data[i, 1])\n",
    "    for i in range(ts, 151):\n",
    "        Xtest.append(testdata[i-20:i,[0,2]])\n",
    "        Ytest.append(testdata[i,1])\n",
    "\n",
    "    X=np.array(X)\n",
    "    Y=np.array(Y)\n",
    "    Xtest=np.array(Xtest)\n",
    "    Ytest=np.array(Ytest)\n",
    "    for hlc in hiddenlayercells:\n",
    "        model = Sequential()\n",
    "        model.add(LSTM(hlc,return_sequences = True,input_shape=(X.shape[1], X.shape[2])))\n",
    "        model.add(Dropout(0.2))\n",
    "        model.add(LSTM(hlc,return_sequences = False))\n",
    "        model.add(Dropout(0.2))\n",
    "        model.add(Dense(1))\n",
    "        model.compile(loss='mean_squared_error', optimizer='adam')\n",
    "        fitmodel = model.fit(X, Y, epochs=50, batch_size=20, validation_data=(Xtest, Ytest),verbose=0,shuffle=False)\n",
    "        title = \"Stock Price Prediction for: (\" + str(2) +\", \"+ str(hlc)+ \", \" + str(ts)+ \")\"\n",
    "        print(title)\n",
    "        models.append(model)\n",
    "# plot history"
   ]
  },
  {
   "cell_type": "code",
   "execution_count": 195,
   "metadata": {},
   "outputs": [
    {
     "name": "stdout",
     "output_type": "stream",
     "text": [
      "Train on 584 samples, validate on 131 samples\n",
      "Epoch 1/50\n",
      " - 4s - loss: 0.1165 - val_loss: 0.0056\n",
      "Epoch 2/50\n",
      " - 0s - loss: 0.0236 - val_loss: 0.0053\n",
      "Epoch 3/50\n",
      " - 0s - loss: 0.0128 - val_loss: 0.0186\n",
      "Epoch 4/50\n",
      " - 0s - loss: 0.0155 - val_loss: 0.0065\n",
      "Epoch 5/50\n",
      " - 0s - loss: 0.0110 - val_loss: 0.0048\n",
      "Epoch 6/50\n",
      " - 0s - loss: 0.0094 - val_loss: 0.0071\n",
      "Epoch 7/50\n",
      " - 0s - loss: 0.0093 - val_loss: 0.0040\n",
      "Epoch 8/50\n",
      " - 0s - loss: 0.0078 - val_loss: 0.0046\n",
      "Epoch 9/50\n",
      " - 0s - loss: 0.0079 - val_loss: 0.0050\n",
      "Epoch 10/50\n",
      " - 0s - loss: 0.0075 - val_loss: 0.0036\n",
      "Epoch 11/50\n",
      " - 0s - loss: 0.0074 - val_loss: 0.0044\n",
      "Epoch 12/50\n",
      " - 0s - loss: 0.0078 - val_loss: 0.0035\n",
      "Epoch 13/50\n",
      " - 0s - loss: 0.0064 - val_loss: 0.0055\n",
      "Epoch 14/50\n",
      " - 0s - loss: 0.0069 - val_loss: 0.0034\n",
      "Epoch 15/50\n",
      " - 0s - loss: 0.0079 - val_loss: 0.0064\n",
      "Epoch 16/50\n",
      " - 0s - loss: 0.0080 - val_loss: 0.0036\n",
      "Epoch 17/50\n",
      " - 0s - loss: 0.0067 - val_loss: 0.0085\n",
      "Epoch 18/50\n",
      " - 0s - loss: 0.0082 - val_loss: 0.0041\n",
      "Epoch 19/50\n",
      " - 0s - loss: 0.0067 - val_loss: 0.0107\n",
      "Epoch 20/50\n",
      " - 0s - loss: 0.0097 - val_loss: 0.0057\n",
      "Epoch 21/50\n",
      " - 0s - loss: 0.0083 - val_loss: 0.0168\n",
      "Epoch 22/50\n",
      " - 0s - loss: 0.0111 - val_loss: 0.0090\n",
      "Epoch 23/50\n",
      " - 0s - loss: 0.0095 - val_loss: 0.0218\n",
      "Epoch 24/50\n",
      " - 0s - loss: 0.0130 - val_loss: 0.0083\n",
      "Epoch 25/50\n",
      " - 0s - loss: 0.0086 - val_loss: 0.0140\n",
      "Epoch 26/50\n",
      " - 0s - loss: 0.0107 - val_loss: 0.0037\n",
      "Epoch 27/50\n",
      " - 0s - loss: 0.0076 - val_loss: 0.0073\n",
      "Epoch 28/50\n",
      " - 0s - loss: 0.0079 - val_loss: 0.0033\n",
      "Epoch 29/50\n",
      " - 0s - loss: 0.0064 - val_loss: 0.0061\n",
      "Epoch 30/50\n",
      " - 1s - loss: 0.0072 - val_loss: 0.0033\n",
      "Epoch 31/50\n",
      " - 0s - loss: 0.0062 - val_loss: 0.0051\n",
      "Epoch 32/50\n",
      " - 0s - loss: 0.0061 - val_loss: 0.0033\n",
      "Epoch 33/50\n",
      " - 0s - loss: 0.0067 - val_loss: 0.0052\n",
      "Epoch 34/50\n",
      " - 0s - loss: 0.0070 - val_loss: 0.0032\n",
      "Epoch 35/50\n",
      " - 0s - loss: 0.0065 - val_loss: 0.0059\n",
      "Epoch 36/50\n",
      " - 0s - loss: 0.0071 - val_loss: 0.0033\n",
      "Epoch 37/50\n",
      " - 0s - loss: 0.0063 - val_loss: 0.0051\n",
      "Epoch 38/50\n",
      " - 0s - loss: 0.0061 - val_loss: 0.0032\n",
      "Epoch 39/50\n",
      " - 0s - loss: 0.0057 - val_loss: 0.0047\n",
      "Epoch 40/50\n",
      " - 0s - loss: 0.0058 - val_loss: 0.0033\n",
      "Epoch 41/50\n",
      " - 0s - loss: 0.0068 - val_loss: 0.0070\n",
      "Epoch 42/50\n",
      " - 0s - loss: 0.0066 - val_loss: 0.0041\n",
      "Epoch 43/50\n",
      " - 0s - loss: 0.0065 - val_loss: 0.0083\n",
      "Epoch 44/50\n",
      " - 0s - loss: 0.0073 - val_loss: 0.0047\n",
      "Epoch 45/50\n",
      " - 0s - loss: 0.0067 - val_loss: 0.0121\n",
      "Epoch 46/50\n",
      " - 0s - loss: 0.0094 - val_loss: 0.0054\n",
      "Epoch 47/50\n",
      " - 0s - loss: 0.0069 - val_loss: 0.0110\n",
      "Epoch 48/50\n",
      " - 0s - loss: 0.0085 - val_loss: 0.0053\n",
      "Epoch 49/50\n",
      " - 0s - loss: 0.0074 - val_loss: 0.0127\n",
      "Epoch 50/50\n",
      " - 0s - loss: 0.0094 - val_loss: 0.0043\n"
     ]
    }
   ],
   "source": [
    "X = []\n",
    "Y = []\n",
    "Xtest=[]\n",
    "Ytest=[]\n",
    "for i in range(20, 604):\n",
    "    X.append(data[i-20:i,[0,2]])\n",
    "    Y.append(data[i, 1])\n",
    "for i in range(20, 151):\n",
    "    Xtest.append(testdata[i-20:i,[0,2]])\n",
    "    Ytest.append(testdata[i,1])\n",
    "\n",
    "X=np.array(X)\n",
    "Y=np.array(Y)\n",
    "Xtest=np.array(Xtest)\n",
    "Ytest=np.array(Ytest)\n",
    "hlc = 35\n",
    "model = Sequential()\n",
    "model.add(LSTM(hlc,return_sequences = True,input_shape=(X.shape[1], X.shape[2])))\n",
    "model.add(Dropout(0.2))\n",
    "model.add(LSTM(hlc,return_sequences = False))\n",
    "model.add(Dropout(0.2))\n",
    "model.add(Dense(1))\n",
    "model.compile(loss='mean_squared_error', optimizer='adam')\n",
    "fitmodel = model.fit(X, Y, epochs=50, batch_size=73, validation_data=(Xtest, Ytest), verbose=2, shuffle=False)"
   ]
  },
  {
   "cell_type": "code",
   "execution_count": 164,
   "metadata": {},
   "outputs": [],
   "source": [
    "inv_yhat = concatenate((predicted_price, Xtest[:, 1:]), axis=1)\n"
   ]
  },
  {
   "cell_type": "code",
   "execution_count": 162,
   "metadata": {},
   "outputs": [
    {
     "ename": "ValueError",
     "evalue": "non-broadcastable output operand with shape (131,1) doesn't match the broadcast shape (131,3)",
     "output_type": "error",
     "traceback": [
      "\u001b[0;31m---------------------------------------------------------------------------\u001b[0m",
      "\u001b[0;31mValueError\u001b[0m                                Traceback (most recent call last)",
      "\u001b[0;32m<ipython-input-162-e2fc1e986ccc>\u001b[0m in \u001b[0;36m<module>\u001b[0;34m\u001b[0m\n\u001b[0;32m----> 1\u001b[0;31m \u001b[0minv_yhat\u001b[0m \u001b[0;34m=\u001b[0m \u001b[0mfeaturescaler\u001b[0m\u001b[0;34m.\u001b[0m\u001b[0minverse_transform\u001b[0m\u001b[0;34m(\u001b[0m\u001b[0mpredicted_price\u001b[0m\u001b[0;34m)\u001b[0m\u001b[0;34m\u001b[0m\u001b[0;34m\u001b[0m\u001b[0m\n\u001b[0m",
      "\u001b[0;32m/Library/Frameworks/Python.framework/Versions/3.7/lib/python3.7/site-packages/sklearn/preprocessing/data.py\u001b[0m in \u001b[0;36minverse_transform\u001b[0;34m(self, X)\u001b[0m\n\u001b[1;32m    402\u001b[0m                         force_all_finite=\"allow-nan\")\n\u001b[1;32m    403\u001b[0m \u001b[0;34m\u001b[0m\u001b[0m\n\u001b[0;32m--> 404\u001b[0;31m         \u001b[0mX\u001b[0m \u001b[0;34m-=\u001b[0m \u001b[0mself\u001b[0m\u001b[0;34m.\u001b[0m\u001b[0mmin_\u001b[0m\u001b[0;34m\u001b[0m\u001b[0;34m\u001b[0m\u001b[0m\n\u001b[0m\u001b[1;32m    405\u001b[0m         \u001b[0mX\u001b[0m \u001b[0;34m/=\u001b[0m \u001b[0mself\u001b[0m\u001b[0;34m.\u001b[0m\u001b[0mscale_\u001b[0m\u001b[0;34m\u001b[0m\u001b[0;34m\u001b[0m\u001b[0m\n\u001b[1;32m    406\u001b[0m         \u001b[0;32mreturn\u001b[0m \u001b[0mX\u001b[0m\u001b[0;34m\u001b[0m\u001b[0;34m\u001b[0m\u001b[0m\n",
      "\u001b[0;31mValueError\u001b[0m: non-broadcastable output operand with shape (131,1) doesn't match the broadcast shape (131,3)"
     ]
    }
   ],
   "source": [
    "inv_yhat = featurescaler.inverse_transform(predicted_price)"
   ]
  },
  {
   "cell_type": "code",
   "execution_count": 197,
   "metadata": {},
   "outputs": [
    {
     "data": {
      "image/png": "[encoded data removed]",
      "text/plain": [
       "<Figure size 432x288 with 1 Axes>"
      ]
     },
     "metadata": {
      "needs_background": "light"
     },
     "output_type": "display_data"
    }
   ],
   "source": [
    "predicted_price = model.predict(Xtest)\n",
    "real_stock_price =Ytest\n",
    "plt.plot(real_stock_price,color = 'red', label = 'Real Price')\n",
    "plt.plot(predicted_price, color = 'blue', label = 'Predicted Price')\n",
    "plt.title('Google Stock Price Prediction')\n",
    "plt.xlabel('Time')\n",
    "plt.ylabel('Google Stock Price')\n",
    "plt.legend()\n",
    "plt.show()"
   ]
  },
  {
   "cell_type": "code",
   "execution_count": 179,
   "metadata": {},
   "outputs": [
    {
     "data": {
      "text/plain": [
       "(131, 1)"
      ]
     },
     "execution_count": 179,
     "metadata": {},
     "output_type": "execute_result"
    }
   ],
   "source": [
    "predicted_price.shape"
   ]
  },
  {
   "cell_type": "code",
   "execution_count": 180,
   "metadata": {},
   "outputs": [
    {
     "ename": "SyntaxError",
     "evalue": "invalid syntax (<ipython-input-180-1fe2702c327c>, line 1)",
     "output_type": "error",
     "traceback": [
      "\u001b[0;36m  File \u001b[0;32m\"<ipython-input-180-1fe2702c327c>\"\u001b[0;36m, line \u001b[0;32m1\u001b[0m\n\u001b[0;31m    predicted_price.append(X[])\u001b[0m\n\u001b[0m                             ^\u001b[0m\n\u001b[0;31mSyntaxError\u001b[0m\u001b[0;31m:\u001b[0m invalid syntax\n"
     ]
    }
   ],
   "source": [
    "predicted_price.append(X[])"
   ]
  },
  {
   "cell_type": "code",
   "execution_count": 198,
   "metadata": {},
   "outputs": [
    {
     "data": {
      "text/plain": [
       "array([[0.7979955 ],\n",
       "       [0.78505504],\n",
       "       [0.7733066 ],\n",
       "       [0.7605897 ],\n",
       "       [0.7495496 ],\n",
       "       [0.74022985],\n",
       "       [0.73254   ],\n",
       "       [0.72853017],\n",
       "       [0.72476923],\n",
       "       [0.7227358 ],\n",
       "       [0.7228702 ],\n",
       "       [0.7201658 ],\n",
       "       [0.71544856],\n",
       "       [0.7138307 ],\n",
       "       [0.71789175],\n",
       "       [0.7307124 ],\n",
       "       [0.7425121 ],\n",
       "       [0.74904615],\n",
       "       [0.7518545 ],\n",
       "       [0.74777365],\n",
       "       [0.7372853 ],\n",
       "       [0.725502  ],\n",
       "       [0.71424717],\n",
       "       [0.7026093 ],\n",
       "       [0.690317  ],\n",
       "       [0.68154895],\n",
       "       [0.6789999 ],\n",
       "       [0.67556334],\n",
       "       [0.6730208 ],\n",
       "       [0.66910666],\n",
       "       [0.6614564 ],\n",
       "       [0.6546641 ],\n",
       "       [0.6492083 ],\n",
       "       [0.64521885],\n",
       "       [0.6443224 ],\n",
       "       [0.6453481 ],\n",
       "       [0.64590985],\n",
       "       [0.64359444],\n",
       "       [0.63852024],\n",
       "       [0.6324935 ],\n",
       "       [0.626477  ],\n",
       "       [0.6207218 ],\n",
       "       [0.6150441 ],\n",
       "       [0.6041056 ],\n",
       "       [0.60294366],\n",
       "       [0.60174894],\n",
       "       [0.6030388 ],\n",
       "       [0.6047182 ],\n",
       "       [0.60705787],\n",
       "       [0.60963994],\n",
       "       [0.61269647],\n",
       "       [0.6172967 ],\n",
       "       [0.6191942 ],\n",
       "       [0.6194279 ],\n",
       "       [0.62150306],\n",
       "       [0.6266885 ],\n",
       "       [0.63451016],\n",
       "       [0.64652663],\n",
       "       [0.6597709 ],\n",
       "       [0.6683607 ],\n",
       "       [0.6751533 ],\n",
       "       [0.6763025 ],\n",
       "       [0.6735791 ],\n",
       "       [0.66265416],\n",
       "       [0.65267074],\n",
       "       [0.6431268 ],\n",
       "       [0.6347975 ],\n",
       "       [0.6293992 ],\n",
       "       [0.6262085 ],\n",
       "       [0.6224518 ],\n",
       "       [0.61865014],\n",
       "       [0.61516577],\n",
       "       [0.61380064],\n",
       "       [0.61641645],\n",
       "       [0.62328184],\n",
       "       [0.6256515 ],\n",
       "       [0.62887615],\n",
       "       [0.6328977 ],\n",
       "       [0.63660246],\n",
       "       [0.64410967],\n",
       "       [0.64925563],\n",
       "       [0.6580287 ],\n",
       "       [0.6719213 ],\n",
       "       [0.6842627 ],\n",
       "       [0.692266  ],\n",
       "       [0.6986921 ],\n",
       "       [0.70350546],\n",
       "       [0.70583296],\n",
       "       [0.70964336],\n",
       "       [0.7129076 ],\n",
       "       [0.717321  ],\n",
       "       [0.71856964],\n",
       "       [0.72070813],\n",
       "       [0.7247762 ],\n",
       "       [0.73042256],\n",
       "       [0.7364711 ],\n",
       "       [0.74551094],\n",
       "       [0.75402313],\n",
       "       [0.7678751 ],\n",
       "       [0.78268445],\n",
       "       [0.7992856 ],\n",
       "       [0.81468153],\n",
       "       [0.82727826],\n",
       "       [0.8373033 ],\n",
       "       [0.84459525],\n",
       "       [0.84724337],\n",
       "       [0.8464887 ],\n",
       "       [0.85756207],\n",
       "       [0.86157846],\n",
       "       [0.86087143],\n",
       "       [0.857802  ],\n",
       "       [0.8535138 ],\n",
       "       [0.8483236 ],\n",
       "       [0.8445237 ],\n",
       "       [0.84069574],\n",
       "       [0.836567  ],\n",
       "       [0.8323514 ],\n",
       "       [0.82928175],\n",
       "       [0.8294069 ],\n",
       "       [0.83298165],\n",
       "       [0.84013844],\n",
       "       [0.85170007],\n",
       "       [0.86532253],\n",
       "       [0.87954974],\n",
       "       [0.89243907],\n",
       "       [0.90297896],\n",
       "       [0.9083399 ],\n",
       "       [0.9108291 ],\n",
       "       [0.9093826 ],\n",
       "       [0.9074963 ],\n",
       "       [0.90312314]], dtype=float32)"
      ]
     },
     "execution_count": 198,
     "metadata": {},
     "output_type": "execute_result"
    }
   ],
   "source": [
    "predicted_price"
   ]
  },
  {
   "cell_type": "code",
   "execution_count": 151,
   "metadata": {},
   "outputs": [
    {
     "ename": "ValueError",
     "evalue": "non-broadcastable output operand with shape (131,1) doesn't match the broadcast shape (131,3)",
     "output_type": "error",
     "traceback": [
      "\u001b[0;31m---------------------------------------------------------------------------\u001b[0m",
      "\u001b[0;31mValueError\u001b[0m                                Traceback (most recent call last)",
      "\u001b[0;32m<ipython-input-151-38b0768b4902>\u001b[0m in \u001b[0;36m<module>\u001b[0;34m\u001b[0m\n\u001b[0;32m----> 1\u001b[0;31m \u001b[0mpredicted_price\u001b[0m \u001b[0;34m=\u001b[0m \u001b[0mfeaturescaler\u001b[0m\u001b[0;34m.\u001b[0m\u001b[0minverse_transform\u001b[0m\u001b[0;34m(\u001b[0m\u001b[0mpredicted_price\u001b[0m\u001b[0;34m)\u001b[0m\u001b[0;34m\u001b[0m\u001b[0;34m\u001b[0m\u001b[0m\n\u001b[0m",
      "\u001b[0;32m/Library/Frameworks/Python.framework/Versions/3.7/lib/python3.7/site-packages/sklearn/preprocessing/data.py\u001b[0m in \u001b[0;36minverse_transform\u001b[0;34m(self, X)\u001b[0m\n\u001b[1;32m    402\u001b[0m                         force_all_finite=\"allow-nan\")\n\u001b[1;32m    403\u001b[0m \u001b[0;34m\u001b[0m\u001b[0m\n\u001b[0;32m--> 404\u001b[0;31m         \u001b[0mX\u001b[0m \u001b[0;34m-=\u001b[0m \u001b[0mself\u001b[0m\u001b[0;34m.\u001b[0m\u001b[0mmin_\u001b[0m\u001b[0;34m\u001b[0m\u001b[0;34m\u001b[0m\u001b[0m\n\u001b[0m\u001b[1;32m    405\u001b[0m         \u001b[0mX\u001b[0m \u001b[0;34m/=\u001b[0m \u001b[0mself\u001b[0m\u001b[0;34m.\u001b[0m\u001b[0mscale_\u001b[0m\u001b[0;34m\u001b[0m\u001b[0;34m\u001b[0m\u001b[0m\n\u001b[1;32m    406\u001b[0m         \u001b[0;32mreturn\u001b[0m \u001b[0mX\u001b[0m\u001b[0;34m\u001b[0m\u001b[0;34m\u001b[0m\u001b[0m\n",
      "\u001b[0;31mValueError\u001b[0m: non-broadcastable output operand with shape (131,1) doesn't match the broadcast shape (131,3)"
     ]
    }
   ],
   "source": [
    "predicted_price = featurescaler.inverse_transform(predicted_price)"
   ]
  },
  {
   "cell_type": "code",
   "execution_count": null,
   "metadata": {},
   "outputs": [],
   "source": []
  }
 ],
 "metadata": {
  "kernelspec": {
   "display_name": "Python 3",
   "language": "python",
   "name": "python3"
  },
  "language_info": {
   "codemirror_mode": {
    "name": "ipython",
    "version": 3
   },
   "file_extension": ".py",
   "mimetype": "text/x-python",
   "name": "python",
   "nbconvert_exporter": "python",
   "pygments_lexer": "ipython3",
   "version": "3.7.1"
  }
 },
 "nbformat": 4,
 "nbformat_minor": 2
}
