{
 "cells": [
  {
   "cell_type": "code",
   "execution_count": 6,
   "metadata": {},
   "outputs": [],
   "source": [
    "import math"
   ]
  },
  {
   "cell_type": "code",
   "execution_count": 1,
   "metadata": {},
   "outputs": [],
   "source": [
    "emi ={}\n",
    "emi['E'] = {}\n",
    "emi['5'] = {}\n",
    "emi['I'] = {}\n",
    "\n",
    "\n",
    "emi['E']['A'] = .25\n",
    "emi['E']['C'] = .25\n",
    "emi['E']['G'] = .25\n",
    "emi['E']['T'] = .25\n",
    "\n",
    "emi['5']['A'] = .05\n",
    "emi['5']['C'] = 0.0\n",
    "emi['5']['G'] = .95\n",
    "emi['5']['T'] = 0.0\n",
    "\n",
    "emi['I']['A'] = .4\n",
    "emi['I']['C'] = .1\n",
    "emi['I']['G'] = .1\n",
    "emi['I']['T'] = .4\n",
    "\n",
    "P ={}\n",
    "\n",
    "P['E'] = [0.9, 0.1]\n",
    "P['5'] = [0, 1]\n",
    "P['I'] = [0.9, 0.1]"
   ]
  },
  {
   "cell_type": "code",
   "execution_count": 8,
   "metadata": {},
   "outputs": [],
   "source": [
    "ipseq = \"CTTCATGTGAAAGCAGACGTAAGTCA\"\n",
    "\n"
   ]
  },
  {
   "cell_type": "code",
   "execution_count": 11,
   "metadata": {},
   "outputs": [],
   "source": [
    "def finprob(statepath):\n",
    "    ipseqlist = list(ipseq)\n",
    "    statepathlist = list(statepath)\n",
    "    probab = 1\n",
    "    for i in range(len(ipseqlist)):\n",
    "        ip = ipseqlist[i]\n",
    "        state = statepathlist[i]\n",
    "#         print(ip,state)\n",
    "        if(i==0):\n",
    "            probab*=emi[state][ip] \n",
    "        else:\n",
    "            probab*=emi[state][ip]\n",
    "            if statepathlist[i-1]==state:\n",
    "                probab*=P[state][0]\n",
    "            else:\n",
    "                probab*=P[state][1]\n",
    "    probab*=0.1\n",
    "    return probab"
   ]
  },
  {
   "cell_type": "code",
   "execution_count": 15,
   "metadata": {},
   "outputs": [
    {
     "name": "stdout",
     "output_type": "stream",
     "text": [
      "-41.21967768602254\n",
      "-43.89740030179306\n",
      "-43.45111319916464\n",
      "-43.94483335502769\n",
      "-42.582255520525116\n",
      "-41.713397841885595\n"
     ]
    }
   ],
   "source": [
    "statepath = \"EEEEEEEEEEEEEEEEEE5IIIIIII$\"\n",
    "print(math.log(finprob(statepath)))\n",
    "\n",
    "\n",
    "statepath = \"EEEEEE5IIIIIIIIIIIIIIIIIIII$\"\n",
    "print(math.log(finprob(statepath)))\n",
    "\n",
    "statepath = \"EEEEEEEE5IIIIIIIIIIIIIIIIII$\"\n",
    "print(math.log(finprob(statepath)))\n",
    "\n",
    "statepath = \"EEEEEEEEEEEE5IIIIIIIIIIIIII$\"\n",
    "print(math.log(finprob(statepath)))\n",
    "\n",
    "statepath = \"EEEEEEEEEEEEEEE5IIIIIIIIIII$\"\n",
    "print(math.log(finprob(statepath)))\n",
    "\n",
    "statepath = \"EEEEEEEEEEEEEEEEEEEEEE5IIII$\"\n",
    "print(math.log(finprob(statepath)))\n",
    "\n"
   ]
  },
  {
   "cell_type": "code",
   "execution_count": null,
   "metadata": {},
   "outputs": [],
   "source": []
  }
 ],
 "metadata": {
  "kernelspec": {
   "display_name": "Python 3",
   "language": "python",
   "name": "python3"
  },
  "language_info": {
   "codemirror_mode": {
    "name": "ipython",
    "version": 3
   },
   "file_extension": ".py",
   "mimetype": "text/x-python",
   "name": "python",
   "nbconvert_exporter": "python",
   "pygments_lexer": "ipython3",
   "version": "3.7.1"
  }
 },
 "nbformat": 4,
 "nbformat_minor": 2
}
